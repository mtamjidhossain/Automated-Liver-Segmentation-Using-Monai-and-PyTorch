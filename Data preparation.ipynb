{
 "cells": [
  {
   "cell_type": "markdown",
   "id": "b3960c1b",
   "metadata": {},
   "source": [
    "# Create groups of 65 slices"
   ]
  },
  {
   "cell_type": "code",
   "execution_count": 39,
   "id": "deacb3d2",
   "metadata": {},
   "outputs": [],
   "source": [
    "in_path = \"D:/SELF-STUDY/freeCodeCamp.org/Kaggle Data/dicom_file/images\"\n",
    "out_path = \"D:/SELF-STUDY/freeCodeCamp.org/Kaggle Data/dicom_groups/images\""
   ]
  },
  {
   "cell_type": "code",
   "execution_count": 8,
   "id": "21de26a0",
   "metadata": {
    "collapsed": true
   },
   "outputs": [
    {
     "name": "stdout",
     "output_type": "stream",
     "text": [
      "Collecting glob2\n",
      "  Downloading glob2-0.7.tar.gz (10 kB)\n",
      "Building wheels for collected packages: glob2\n",
      "  Building wheel for glob2 (setup.py): started\n",
      "  Building wheel for glob2 (setup.py): finished with status 'done'\n",
      "  Created wheel for glob2: filename=glob2-0.7-py2.py3-none-any.whl size=9320 sha256=e847af30ecf4c34b6103365cd5b38a25b287d1206c61e250f12eabf411e90a9e\n",
      "  Stored in directory: c:\\users\\tamzi\\appdata\\local\\pip\\cache\\wheels\\95\\59\\ed\\52469ecfae47a78c25f11bcb49db42ff84629df01861876883\n",
      "Successfully built glob2\n",
      "Installing collected packages: glob2\n",
      "Successfully installed glob2-0.7\n"
     ]
    }
   ],
   "source": [
    "!pip install glob2"
   ]
  },
  {
   "cell_type": "code",
   "execution_count": 9,
   "id": "6bef0240",
   "metadata": {
    "collapsed": true
   },
   "outputs": [
    {
     "name": "stdout",
     "output_type": "stream",
     "text": [
      "Collecting pytest-shutil\n",
      "  Downloading pytest_shutil-1.7.0-py2.py3-none-any.whl (15 kB)\n",
      "Requirement already satisfied: six in c:\\users\\tamzi\\anaconda3\\envs\\liver_segmentation\\lib\\site-packages (from pytest-shutil) (1.16.0)\n",
      "Collecting pytest\n",
      "  Downloading pytest-7.1.1-py3-none-any.whl (297 kB)\n",
      "Collecting contextlib2\n",
      "  Downloading contextlib2-21.6.0-py2.py3-none-any.whl (13 kB)\n",
      "Collecting execnet\n",
      "  Downloading execnet-1.9.0-py2.py3-none-any.whl (39 kB)\n",
      "Collecting termcolor\n",
      "  Using cached termcolor-1.1.0-py3-none-any.whl\n",
      "Collecting mock\n",
      "  Downloading mock-4.0.3-py3-none-any.whl (28 kB)\n",
      "Collecting path.py\n",
      "  Downloading path.py-12.5.0-py3-none-any.whl (2.3 kB)\n",
      "Collecting path\n",
      "  Downloading path-16.4.0-py3-none-any.whl (26 kB)\n",
      "Requirement already satisfied: packaging in c:\\users\\tamzi\\anaconda3\\envs\\liver_segmentation\\lib\\site-packages (from pytest->pytest-shutil) (21.3)\n",
      "Collecting py>=1.8.2\n",
      "  Downloading py-1.11.0-py2.py3-none-any.whl (98 kB)\n",
      "Collecting pluggy<2.0,>=0.12\n",
      "  Downloading pluggy-1.0.0-py2.py3-none-any.whl (13 kB)\n",
      "Requirement already satisfied: attrs>=19.2.0 in c:\\users\\tamzi\\anaconda3\\envs\\liver_segmentation\\lib\\site-packages (from pytest->pytest-shutil) (21.4.0)\n",
      "Collecting tomli>=1.0.0\n",
      "  Downloading tomli-2.0.1-py3-none-any.whl (12 kB)\n",
      "Requirement already satisfied: colorama in c:\\users\\tamzi\\anaconda3\\envs\\liver_segmentation\\lib\\site-packages (from pytest->pytest-shutil) (0.4.4)\n",
      "Collecting iniconfig\n",
      "  Downloading iniconfig-1.1.1-py2.py3-none-any.whl (5.0 kB)\n",
      "Collecting atomicwrites>=1.0\n",
      "  Downloading atomicwrites-1.4.0-py2.py3-none-any.whl (6.8 kB)\n",
      "Requirement already satisfied: pyparsing!=3.0.5,>=2.0.2 in c:\\users\\tamzi\\anaconda3\\envs\\liver_segmentation\\lib\\site-packages (from packaging->pytest->pytest-shutil) (3.0.4)\n",
      "Installing collected packages: tomli, py, pluggy, path, iniconfig, atomicwrites, termcolor, pytest, path.py, mock, execnet, contextlib2, pytest-shutil\n",
      "Successfully installed atomicwrites-1.4.0 contextlib2-21.6.0 execnet-1.9.0 iniconfig-1.1.1 mock-4.0.3 path-16.4.0 path.py-12.5.0 pluggy-1.0.0 py-1.11.0 pytest-7.1.1 pytest-shutil-1.7.0 termcolor-1.1.0 tomli-2.0.1\n"
     ]
    }
   ],
   "source": [
    "!pip install pytest-shutil"
   ]
  },
  {
   "cell_type": "code",
   "execution_count": 3,
   "id": "fd83beb1",
   "metadata": {
    "collapsed": true
   },
   "outputs": [
    {
     "name": "stdout",
     "output_type": "stream",
     "text": [
      "Requirement already satisfied: nibabel in c:\\users\\tamzi\\anaconda3\\envs\\liver_segmentation\\lib\\site-packages (3.2.2)\n",
      "Requirement already satisfied: packaging>=14.3 in c:\\users\\tamzi\\anaconda3\\envs\\liver_segmentation\\lib\\site-packages (from nibabel) (21.3)\n",
      "Requirement already satisfied: numpy>=1.14 in c:\\users\\tamzi\\anaconda3\\envs\\liver_segmentation\\lib\\site-packages (from nibabel) (1.22.3)\n",
      "Requirement already satisfied: setuptools in c:\\users\\tamzi\\anaconda3\\envs\\liver_segmentation\\lib\\site-packages (from nibabel) (58.0.4)\n",
      "Requirement already satisfied: pyparsing!=3.0.5,>=2.0.2 in c:\\users\\tamzi\\anaconda3\\envs\\liver_segmentation\\lib\\site-packages (from packaging>=14.3->nibabel) (3.0.4)\n"
     ]
    }
   ],
   "source": [
    "!pip install nibabel"
   ]
  },
  {
   "cell_type": "code",
   "execution_count": 7,
   "id": "acedb69a",
   "metadata": {},
   "outputs": [],
   "source": [
    "from glob import glob\n",
    "import shutil\n",
    "import os\n",
    "import dicom2nifti\n",
    "import nibabel as nib\n",
    "import numpy as np"
   ]
  },
  {
   "cell_type": "code",
   "execution_count": 32,
   "id": "79c6014e",
   "metadata": {},
   "outputs": [
    {
     "name": "stdout",
     "output_type": "stream",
     "text": [
      "D:/SELF-STUDY/freeCodeCamp.org/Kaggle Data/dicom_file/labels\\liver_0\n"
     ]
    }
   ],
   "source": [
    "patient_list = glob(in_path + '/*')\n",
    "print(patient_list[0])"
   ]
  },
  {
   "cell_type": "code",
   "execution_count": 40,
   "id": "b7e156cc",
   "metadata": {},
   "outputs": [],
   "source": [
    "# glob returns a list of directories for each file inside mother folder \n",
    "\n",
    "for patient in glob(in_path + '/*'):                           # everything inside the folder\n",
    "    patient_name = os.path.basename(os.path.normpath(patient)) # normalizes path # Basename returns the last item of the path\n",
    "    number_folders = int(len(glob(patient + '/*'))/64)   #total slices for the patient / lowest # slices a patient has\n",
    "    \n",
    "    # groups\n",
    "    for i in range(number_folders):                  #parses through all groups\n",
    "        output_path_name = os.path.join(out_path, patient_name + '_' + str(i))    #joins like path1/path2\n",
    "        os.mkdir(output_path_name)               #create folder\n",
    "        #print(output_path_name)\n",
    "        \n",
    "        # slices\n",
    "        for j, file in enumerate(glob(patient + '/*')):           # parses through all slices # file has path of each dicom slice\n",
    "            if j > 64:                                            # min slices\n",
    "                break\n",
    "            shutil.move(file, output_path_name)                   # moves slices"
   ]
  },
  {
   "cell_type": "markdown",
   "id": "0a8f4af9",
   "metadata": {},
   "source": [
    "# Convert Dicom files into Nifties"
   ]
  },
  {
   "cell_type": "code",
   "execution_count": 42,
   "id": "a5c4a5b7",
   "metadata": {
    "collapsed": true
   },
   "outputs": [
    {
     "name": "stdout",
     "output_type": "stream",
     "text": [
      "Requirement already satisfied: dicom2nifti in c:\\users\\tamzi\\anaconda3\\envs\\liver_segmentation\\lib\\site-packages (2.3.2)\n",
      "Requirement already satisfied: scipy in c:\\users\\tamzi\\anaconda3\\envs\\liver_segmentation\\lib\\site-packages (from dicom2nifti) (1.8.0)\n",
      "Requirement already satisfied: nibabel in c:\\users\\tamzi\\anaconda3\\envs\\liver_segmentation\\lib\\site-packages (from dicom2nifti) (3.2.2)\n",
      "Requirement already satisfied: numpy in c:\\users\\tamzi\\anaconda3\\envs\\liver_segmentation\\lib\\site-packages (from dicom2nifti) (1.22.3)\n",
      "Requirement already satisfied: pydicom>=1.3.0 in c:\\users\\tamzi\\anaconda3\\envs\\liver_segmentation\\lib\\site-packages (from dicom2nifti) (2.2.2)\n",
      "Requirement already satisfied: setuptools in c:\\users\\tamzi\\anaconda3\\envs\\liver_segmentation\\lib\\site-packages (from nibabel->dicom2nifti) (58.0.4)\n",
      "Requirement already satisfied: packaging>=14.3 in c:\\users\\tamzi\\anaconda3\\envs\\liver_segmentation\\lib\\site-packages (from nibabel->dicom2nifti) (21.3)\n",
      "Requirement already satisfied: pyparsing!=3.0.5,>=2.0.2 in c:\\users\\tamzi\\anaconda3\\envs\\liver_segmentation\\lib\\site-packages (from packaging>=14.3->nibabel->dicom2nifti) (3.0.4)\n"
     ]
    }
   ],
   "source": [
    "!pip install dicom2nifti"
   ]
  },
  {
   "cell_type": "code",
   "execution_count": 50,
   "id": "19c7a690",
   "metadata": {},
   "outputs": [],
   "source": [
    "in_path_images = 'D:/SELF-STUDY/freeCodeCamp.org/Kaggle Data/dicom_groups/images/*'\n",
    "in_path_labels = 'D:/SELF-STUDY/freeCodeCamp.org/Kaggle Data/dicom_groups/labels/*'\n",
    "out_path_images = 'D:/SELF-STUDY/freeCodeCamp.org/Kaggle Data/nifti_files/images'\n",
    "out_path_labels = 'D:/SELF-STUDY/freeCodeCamp.org/Kaggle Data/nifti_files/labels'\n",
    "\n",
    "list_images = glob(in_path_images)\n",
    "list_labels = glob(in_path_labels)"
   ]
  },
  {
   "cell_type": "code",
   "execution_count": 47,
   "id": "023f3614",
   "metadata": {},
   "outputs": [
    {
     "data": {
      "text/plain": [
       "['D:/SELF-STUDY/freeCodeCamp.org/Kaggle Data/dicom_groups/images\\\\liver_0_0',\n",
       " 'D:/SELF-STUDY/freeCodeCamp.org/Kaggle Data/dicom_groups/images\\\\liver_1_0']"
      ]
     },
     "execution_count": 47,
     "metadata": {},
     "output_type": "execute_result"
    }
   ],
   "source": [
    "list_images"
   ]
  },
  {
   "cell_type": "code",
   "execution_count": 49,
   "id": "d590f206",
   "metadata": {},
   "outputs": [
    {
     "data": {
      "text/plain": [
       "['D:/SELF-STUDY/freeCodeCamp.org/Kaggle Data/dicom_groups/labels\\\\liver_0_0',\n",
       " 'D:/SELF-STUDY/freeCodeCamp.org/Kaggle Data/dicom_groups/labels\\\\liver_1_0']"
      ]
     },
     "execution_count": 49,
     "metadata": {},
     "output_type": "execute_result"
    }
   ],
   "source": [
    "list_labels"
   ]
  },
  {
   "cell_type": "code",
   "execution_count": 52,
   "id": "fda23029",
   "metadata": {},
   "outputs": [],
   "source": [
    "for patient in list_images: \n",
    "    patient_name = os.path.basename(os.path.normpath(patient))    # patient name\n",
    "    dicom2nifti.dicom_series_to_nifti(patient, os.path.join(out_path_images, patient_name + '.nii.gz'))       # runs for each path"
   ]
  },
  {
   "cell_type": "code",
   "execution_count": 53,
   "id": "b42528d2",
   "metadata": {},
   "outputs": [],
   "source": [
    "for patient in list_labels: \n",
    "    patient_name = os.path.basename(os.path.normpath(patient))    # patient name\n",
    "    dicom2nifti.dicom_series_to_nifti(patient, os.path.join(out_path_labels, patient_name + '.nii.gz'))       # runs for each path"
   ]
  },
  {
   "cell_type": "markdown",
   "id": "56e0da3f",
   "metadata": {},
   "source": [
    "# Find empty slices"
   ]
  },
  {
   "cell_type": "code",
   "execution_count": 11,
   "id": "a37d8266",
   "metadata": {},
   "outputs": [],
   "source": [
    "# if pixel values are more then 1, then means contains label\n",
    "# if pixel valyus are zero, means only contains background\n",
    "\n",
    "input_nifti_file_path = 'D:/SELF-STUDY/freeCodeCamp.org/Kaggle Data/nifti_files/labels/*'\n",
    "list_labels = glob(input_nifti_file_path)     # list of addresses of all patients\n",
    "\n",
    "for patient in list_labels:   \n",
    "    nifti_file = nib.load(patient)            # label of each patient   \n",
    "    fdata = nifti_file.get_fdata()            # gets frame data in an array    \n",
    "    np_unique = np.unique(fdata)                \n",
    "    if len(np_unique) == 1:                   # all zero in array means slice picture contains only background\n",
    "        print(patient)                        # prints that path\n",
    "        #shutil.rmtree(patient)               # remove that slice"
   ]
  },
  {
   "cell_type": "code",
   "execution_count": null,
   "id": "a7f81019",
   "metadata": {},
   "outputs": [],
   "source": []
  }
 ],
 "metadata": {
  "kernelspec": {
   "display_name": "Python 3 (ipykernel)",
   "language": "python",
   "name": "python3"
  },
  "language_info": {
   "codemirror_mode": {
    "name": "ipython",
    "version": 3
   },
   "file_extension": ".py",
   "mimetype": "text/x-python",
   "name": "python",
   "nbconvert_exporter": "python",
   "pygments_lexer": "ipython3",
   "version": "3.8.13"
  }
 },
 "nbformat": 4,
 "nbformat_minor": 5
}
